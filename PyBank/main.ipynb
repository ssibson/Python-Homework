{
 "cells": [
  {
   "cell_type": "code",
   "execution_count": 184,
   "metadata": {},
   "outputs": [],
   "source": [
    "#Import the pathlib and csv library\n",
    "from pathlib import Path\n",
    "import csv"
   ]
  },
  {
   "cell_type": "code",
   "execution_count": 185,
   "metadata": {},
   "outputs": [],
   "source": [
    "#Set the file path\n",
    "csvpath = Path('../PyBank/budget_data.csv')"
   ]
  },
  {
   "cell_type": "code",
   "execution_count": null,
   "metadata": {},
   "outputs": [],
   "source": []
  },
  {
   "cell_type": "code",
   "execution_count": null,
   "metadata": {},
   "outputs": [],
   "source": []
  },
  {
   "cell_type": "code",
   "execution_count": 263,
   "metadata": {},
   "outputs": [],
   "source": [
    "# Track financial parameters\n",
    "total_months = 0\n",
    "greatest_increase = [\"\", 0]\n",
    "greatest_decrease = [\"\", 99999999999999]\n",
    "net_change_list = []\n",
    "total_pl = 0\n",
    "total_net = 0\n",
    "total_change = 0\n",
    "\n",
    "with open(csvpath, 'r') as financial_data:\n",
    "    reader = csv.reader(financial_data)\n",
    "    \n",
    "    header = next(reader)\n",
    "    \n",
    "    last_pl = 0\n",
    "    net_change = 0\n",
    "    for row in reader:\n",
    "        current_month = row[0]\n",
    "        current_pl = int(row[1])\n",
    "        net_change = current_pl - last_pl\n",
    "        total_months = total_months + 1\n",
    "        total_net = total_net + int(row[1])\n",
    "        if net_change > int(greatest_increase[1]):\n",
    "            greatest_increase = [current_month, net_change]\n",
    "        elif net_change < int(greatest_decrease[1]):\n",
    "            greatest_decrease = [current_month, net_change]\n",
    "        total_pl += current_pl\n",
    "        net_change_list.append(net_change)\n",
    "        last_pl = current_pl\n",
    "    \n",
    "    avg_change = sum(net_change_list[1:]) / len(net_change_list[1:])\n"
   ]
  },
  {
   "cell_type": "code",
   "execution_count": 265,
   "metadata": {},
   "outputs": [
    {
     "name": "stdout",
     "output_type": "stream",
     "text": [
      "Total months: 86\n",
      "Total net PNL: 38382578\n",
      "greatest_increase: ['Feb-2012', 1926159]\n",
      "greatest_decrease: ['Sep-2013', -2196167]\n",
      "average change: -2315.12\n"
     ]
    }
   ],
   "source": [
    "print(f\"Total months: {total_months}\")\n",
    "print(f\"Total net PNL: {total_net}\")\n",
    "print(f\"greatest_increase: {greatest_increase}\")\n",
    "print(f\"greatest_decrease: {greatest_decrease}\")\n",
    "print(f\"average change: {avg_change:.02f}\")"
   ]
  },
  {
   "cell_type": "code",
   "execution_count": 270,
   "metadata": {},
   "outputs": [],
   "source": [
    "output_path = Path('Analysis/budget_analysis.txt')"
   ]
  },
  {
   "cell_type": "code",
   "execution_count": 275,
   "metadata": {},
   "outputs": [],
   "source": [
    "with open(output_path, 'w') as txtfile:\n",
    "    txtfile.write(\"Financial Analysis\\n\") \n",
    "    txtfile.write(\"------------------\\n\")\n",
    "    txtfile.write(f\"Total Months: {total_months}\\n\")\n",
    "    txtfile.write(f\"Total Net PNL: ${total_net}\\n\")\n",
    "    txtfile.write(f\"Greatest Monthly Increase: {greatest_increase}\\n\")\n",
    "    txtfile.write(f\"Greatest Monthly Decrease: {greatest_decrease}\\n\")\n",
    "    txtfile.write(f\"Average Change: ${avg_change:.02f}\\n\")"
   ]
  },
  {
   "cell_type": "code",
   "execution_count": null,
   "metadata": {},
   "outputs": [],
   "source": []
  }
 ],
 "metadata": {
  "kernelspec": {
   "display_name": "Python 3",
   "language": "python",
   "name": "python3"
  },
  "language_info": {
   "codemirror_mode": {
    "name": "ipython",
    "version": 3
   },
   "file_extension": ".py",
   "mimetype": "text/x-python",
   "name": "python",
   "nbconvert_exporter": "python",
   "pygments_lexer": "ipython3",
   "version": "3.7.6"
  }
 },
 "nbformat": 4,
 "nbformat_minor": 4
}
